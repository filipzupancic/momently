{
 "metadata": {
  "language_info": {
   "codemirror_mode": {
    "name": "ipython",
    "version": 3
   },
   "file_extension": ".py",
   "mimetype": "text/x-python",
   "name": "python",
   "nbconvert_exporter": "python",
   "pygments_lexer": "ipython3",
   "version": "3.9.4"
  },
  "orig_nbformat": 2,
  "kernelspec": {
   "name": "python394jvsc74a57bd03972c25b34e4425116f4f289d1cc1b9b92d9d79c3f3b344eff018e48ff7f1544",
   "display_name": "Python 3.9.4 64-bit ('my-uiproject-env': conda)"
  },
  "metadata": {
   "interpreter": {
    "hash": "3972c25b34e4425116f4f289d1cc1b9b92d9d79c3f3b344eff018e48ff7f1544"
   }
  }
 },
 "nbformat": 4,
 "nbformat_minor": 2,
 "cells": [
  {
   "cell_type": "code",
   "execution_count": 1,
   "metadata": {},
   "outputs": [
    {
     "output_type": "stream",
     "name": "stdout",
     "text": [
      "{'07/04/21': 'haha ja, in nam pol te stvari tut dobr pokazat kako se primerjajo. itd. :D. pol nek tak malo bolÅ¡i avto. najprej en clio. mislm da bi vsakiÄ\\x8d pred dirko mogl neki tazga narest. haha, sam vseen zgleda zalostno pocasn napram formulam, ne vem a ko je safety car voz na polno al neki u izi :D. hud je <3. ni luÅ¡tkan!', '06/04/21': 'je luskan ja :D. im in love. https://www.youtube.com/watch?v=h7rNMmcNz-c. medijska diskreditacija na popno. hahaha ok. pa zarad enga videja k se norÄ\\x8duje iz ene Å¾enske ga Å¡e tok bolj ne marajo. sam ga je fotrov denar spravu v f1. finta je da je Å¾e v formuli 2 bil neimpresiven. Å¡e predno se je zaÄ\\x8del ga niso maral. kako ga lahko ze ne marajo haha. pa a ni zdej prvic vozu on. pomoje je dost od kamere odvisno, te profi so tok gladke da se nc ne cut vec hitrosti :D. Ga ne marajo prevec ljudje. Mazespin mu pa kr ustreza :D. Hahaha ja to prevec vsega motri natlacjo. Men se isto tak zdi, da vcas kaksn amater zna bols posnet obcutek na progu. revez sicer :D. mazespin je pa kr zabaven drgac. vsake druge stvari ne razumm al zato k ne poznam neke fore al pa ne razumm besed k jih odrezejo pa prehitr govorijo. joj pa js ne morm gledat tega :D', '05/04/21': 'bom pogledu dramo :D. prou redko kdaj se to cut, vedno se kamera s formulo premika. ma js formuli predvsem zamerm da jo vedno tko snemajo da ne cuts da gre hitr. S takimi videji hst spremljam f1 drame :D. https://youtu.be/J5blTsLWZss. Pa itqk se znajdejo ekipe. Ker to je bol povezan z dejansko tehnologijo k jo dajo v avte. Pa tut nisem vec tok jezen da so dal v6 male masine. Ane. sam zanimivo kako vedno najdejo neko resitev. tega nism vedu. joj a zdej so prou omejeni obrati', '04/04/21': 'https://youtube.com/watch?v=QxQhi9Ai4Bk&feature=share', '03/04/21': 'ta je res tak ja. Bruuh. ð\\x9f¤¤. hahaha. ð\\x9f¥º. Pazi tega. Poneumlajo ju. SLIKA TODO. skos bol butasti postajajo te emociji hahaha. Sam tega morislkega smajlija so prilagodil. *:. :*. Aja caki. (*. hahaha. (*. :*. k se ne tok redko zgosi kej (lalala): rktkska. Res. Pa rws. :(. lej ta pa ni. ):. jih jetreba vec dat ja. hahahaha. (((((:. Je un tadrug moj. Jst biu zdele isto amazed. od kdaj pa to. narobe obrnjen smilej tut prime. uu. (:. kaj ta dvopicja tm. (::::. :). (:. :))). :). Healthy ghost in healthy body ð\\x9f\\x98\\x8cð\\x9f\\x98\\x8c. haha ja sm vidu te lepote :D. SLIKA TODO', '02/04/21': 'pa je blo ob osmih zjutri haha. tut na signale so hodil :D. najbrz hodjo. sam. da ni Ä\\x8disto sm. upam da kakÅ¡en good guy hodi na predavanja. blesavo je res. gledam vaje. ja ne hodm ne :D. snema pa Å¡e vedno noben :(. a ti hodiÅ¡?. jst sm meu podobno idejo, sem zanÄ\\x8d hotu it na ics, ker sm priÄ\\x8dakvov eno smiselno uro. bratko pa vztrajno posilja vabila na predavanja :D. pa stabilno brez zamud. ja tko se ene 20 minut manj bi moral bit. haha. Hitrost pa ista :(. Vem da laÅ¡ko preskoc ics. Tocn tak ja', '01/04/21': 'sej to pomen sam kÅ¡na postaja manj al neki takga a ne? :D. razlika med hitrim pa navadnim. SLIKA TODO. SLIKA TODO. Ä\\x8dak ti neki depressing poÅ¡lem. glede na to da je anglija mela najhitrejÅ¡o parno lokomotivo. bi bilo pa res Ä\\x8dudno, morm nazaj tole vzet z 100 mph :D. ja to mi je zanimiv, k v spominu mam da so dost neimpresivne linije, ker so imel velik dizelskih high speed lokomotiv. oh well, to so pr nas je res Å¾alost. sam lej k je res od doverja hitr del. slovenija :D. sam je bla tema tko da je blo kot da se samo trese :D. SLIKA TODO. me zmot vsakiÄ\\x8d k vidm :D. AljaÅ¾ je spremenil/-a tvoj vzdevek na DirkaÄ\\x8d.. sam to so tanovi, Ä\\x8dak. uau. 140mph. dover pa londom. ma ni tm max dej. a to med letaliÅ¡Ä\\x8de m pa londonom?. tm je kr divjal. pomoje v angliji da je blo. ajaa uu. sam se ne spomnm res. sej sm meru :D. je bolj Å¾alost. anglija je 100 mph max. jst mam app za gps, da ti meri hitrost, nikol ne veÅ¡ kdaj bo uporabn :D. Å¾ko da sm bil na hitrem. sam ta hitri so ponavad draÅ¾ji tko da bl te. aja pa anglija. teÅ¾ko je reÄ\\x8dt Ä\\x8de ne piÅ¡e. ma na teh vlakih ne veÅ¡ a greÅ¡ hitr al ne. upsi. aja ups, sem mislu to in vse vmes. pa tisto vmes ni blo odveÄ\\x8d. AljaÅ¾ je spremenil/-a tvoj vzdevek na DrkaÄ\\x8d.. belgija je optimistiÄ\\x8dna Ä\\x8de si Å¡u z tgv. tm si dou oklepaj pa zaklepaj preveÄ\\x8d. velik vlakov vidu, im jelaous. hudo. sam so bli bl uni 160. dude. pa Å¡paniji. tm so Å¡ansÃ©. pa italiji. v belgiji. AljaÅ¾ je spremenil/-a tvoj vzdevek na D(i)rkaÄ\\x8d.. povej kje si se pelu pa ti jst povem :D. kako to da Å¡ele zdele. sam je blo zoprno. ma v bistvu je blo pregledovanje izpita s prvega roka. ni vedno pisal kok gre hitr. aja vlak, hm, ma tut ne vem ce. wow Å¾e? a to fmf. kaj pa kakÅ¡en vlak. js se nism sou 200 razn v letalu :/. pa lih sm se zdej usedu za volan :D. pol sm pa spet nazaj zacel. tko da neki casa nism. ja uceri sm meu nek izpiitic. a kej vadiÅ¡ z volanom?. jst sm z motorjem Å¡u 200 pa sm mislu da sm raketa. tut to je vprasanje. ze 300 po ravnem si ne predstavljam. ne vem :D. jst ne vem kako so zmoÅ¾ni pr takih pospeÅ¡kih drÅ¾at volan. 4G v ovinek no problem. js pa dajem v tretjo tm :D. pa gre 300. nekje vmes je en ovink iz spaja. https://youtu.be/N1iDrDNBC4M'}\n"
     ]
    }
   ],
   "source": [
    "from app.parser import *"
   ]
  },
  {
   "cell_type": "code",
   "execution_count": 2,
   "metadata": {},
   "outputs": [],
   "source": [
    "messages = parse_messenger()\n",
    "grouped = group_by_day(messages)"
   ]
  },
  {
   "cell_type": "code",
   "execution_count": 3,
   "metadata": {},
   "outputs": [
    {
     "output_type": "execute_result",
     "data": {
      "text/plain": [
       "{'07/04/21': 314,\n",
       " '06/04/21': 845,\n",
       " '05/04/21': 478,\n",
       " '04/04/21': 53,\n",
       " '03/04/21': 561,\n",
       " '02/04/21': 501,\n",
       " '01/04/21': 2195}"
      ]
     },
     "metadata": {},
     "execution_count": 3
    }
   ],
   "source": [
    "counts_by_day = {k: len(grouped[k]) for k in grouped}\n",
    "counts_by_day"
   ]
  },
  {
   "cell_type": "code",
   "execution_count": 4,
   "metadata": {},
   "outputs": [],
   "source": [
    "import nltk\n",
    "from nltk.corpus import stopwords\n",
    "from nltk.tokenize import word_tokenize, sent_tokenize\n",
    "\n",
    "def count_word_frequency_in_text(text):\n",
    "    # Tokenizing the text\n",
    "    stopWords = set(stopwords.words(\"slovene\"))\n",
    "    stopWords = stopWords.union({'.',',',':','!','?','haha','hahah','hahaha'})\n",
    "    words = word_tokenize(text)\n",
    "    \n",
    "    # Creating a frequency table to keep the \n",
    "    # score of each word\n",
    "    \n",
    "    freqTable = dict()\n",
    "    for word in words:\n",
    "        word = word.lower()\n",
    "        if word in stopWords:\n",
    "            continue\n",
    "        if word in freqTable:\n",
    "            freqTable[word] += 1\n",
    "        else:\n",
    "            freqTable[word] = 1\n",
    "    return freqTable"
   ]
  },
  {
   "cell_type": "code",
   "execution_count": 6,
   "metadata": {},
   "outputs": [],
   "source": [
    "count_word_frequency_in_text(grouped['01/04/21']);"
   ]
  },
  {
   "cell_type": "code",
   "execution_count": 11,
   "metadata": {},
   "outputs": [],
   "source": [
    "def format_date_for_sorting(date):\n",
    "    return date[-2:] + '/' + date[-5:-3] + '/' + date[:-6]"
   ]
  },
  {
   "cell_type": "code",
   "execution_count": 12,
   "metadata": {},
   "outputs": [
    {
     "output_type": "execute_result",
     "data": {
      "text/plain": [
       "'21/04/01'"
      ]
     },
     "metadata": {},
     "execution_count": 12
    }
   ],
   "source": [
    "format_date_for_sorting('01/04/21')"
   ]
  },
  {
   "cell_type": "code",
   "execution_count": 13,
   "metadata": {},
   "outputs": [
    {
     "output_type": "execute_result",
     "data": {
      "text/plain": [
       "[('21/04/01', 2195),\n",
       " ('21/04/02', 501),\n",
       " ('21/04/03', 561),\n",
       " ('21/04/04', 53),\n",
       " ('21/04/05', 478),\n",
       " ('21/04/06', 845),\n",
       " ('21/04/07', 314)]"
      ]
     },
     "metadata": {},
     "execution_count": 13
    }
   ],
   "source": [
    "counts_by_day_sorted = sorted([(format_date_for_sorting(k), counts_by_day[k]) for k in counts_by_day])\n",
    "counts_by_day_sorted"
   ]
  },
  {
   "cell_type": "code",
   "execution_count": 19,
   "metadata": {},
   "outputs": [
    {
     "output_type": "stream",
     "name": "stderr",
     "text": [
      "<ipython-input-19-986647d5a67c>:8: UserWarning: FixedFormatter should only be used together with FixedLocator\n  ax.set_xticklabels(days)\n"
     ]
    },
    {
     "output_type": "execute_result",
     "data": {
      "text/plain": [
       "[Text(-1.0, 0, '21/04/01'),\n",
       " Text(0.0, 0, '21/04/02'),\n",
       " Text(1.0, 0, '21/04/03'),\n",
       " Text(2.0, 0, '21/04/04'),\n",
       " Text(3.0, 0, '21/04/05'),\n",
       " Text(4.0, 0, '21/04/06'),\n",
       " Text(5.0, 0, '21/04/07'),\n",
       " Text(6.0, 0, ''),\n",
       " Text(7.0, 0, '')]"
      ]
     },
     "metadata": {},
     "execution_count": 19
    },
    {
     "output_type": "display_data",
     "data": {
      "text/plain": "<Figure size 432x288 with 1 Axes>",
      "image/svg+xml": "<?xml version=\"1.0\" encoding=\"utf-8\" standalone=\"no\"?>\n<!DOCTYPE svg PUBLIC \"-//W3C//DTD SVG 1.1//EN\"\n  \"http://www.w3.org/Graphics/SVG/1.1/DTD/svg11.dtd\">\n<svg height=\"261.478125pt\" version=\"1.1\" viewBox=\"0 0 392.45 261.478125\" width=\"392.45pt\" xmlns=\"http://www.w3.org/2000/svg\" xmlns:xlink=\"http://www.w3.org/1999/xlink\">\n <metadata>\n  <rdf:RDF xmlns:cc=\"http://creativecommons.org/ns#\" xmlns:dc=\"http://purl.org/dc/elements/1.1/\" xmlns:rdf=\"http://www.w3.org/1999/02/22-rdf-syntax-ns#\">\n   <cc:Work>\n    <dc:type rdf:resource=\"http://purl.org/dc/dcmitype/StillImage\"/>\n    <dc:date>2021-05-22T22:22:40.174668</dc:date>\n    <dc:format>image/svg+xml</dc:format>\n    <dc:creator>\n     <cc:Agent>\n      <dc:title>Matplotlib v3.4.2, https://matplotlib.org/</dc:title>\n     </cc:Agent>\n    </dc:creator>\n   </cc:Work>\n  </rdf:RDF>\n </metadata>\n <defs>\n  <style type=\"text/css\">*{stroke-linecap:butt;stroke-linejoin:round;}</style>\n </defs>\n <g id=\"figure_1\">\n  <g id=\"patch_1\">\n   <path d=\"M -0 261.478125 \nL 392.45 261.478125 \nL 392.45 0 \nL -0 0 \nz\n\" style=\"fill:none;\"/>\n  </g>\n  <g id=\"axes_1\">\n   <g id=\"patch_2\">\n    <path d=\"M 39.65 237.6 \nL 385.25 237.6 \nL 385.25 7.2 \nL 39.65 7.2 \nz\n\" style=\"fill:#ffffff;\"/>\n   </g>\n   <g id=\"matplotlib.axis_1\">\n    <g id=\"xtick_1\">\n     <g id=\"line2d_1\">\n      <defs>\n       <path d=\"M 0 0 \nL 0 3.5 \n\" id=\"m318f72f66e\" style=\"stroke:#000000;stroke-width:0.8;\"/>\n      </defs>\n      <g>\n       <use style=\"stroke:#000000;stroke-width:0.8;\" x=\"55.359091\" xlink:href=\"#m318f72f66e\" y=\"237.6\"/>\n      </g>\n     </g>\n     <g id=\"text_1\">\n      <!-- 21/04/02 -->\n      <g transform=\"translate(32.902841 252.198437)scale(0.1 -0.1)\">\n       <defs>\n        <path d=\"M 1228 531 \nL 3431 531 \nL 3431 0 \nL 469 0 \nL 469 531 \nQ 828 903 1448 1529 \nQ 2069 2156 2228 2338 \nQ 2531 2678 2651 2914 \nQ 2772 3150 2772 3378 \nQ 2772 3750 2511 3984 \nQ 2250 4219 1831 4219 \nQ 1534 4219 1204 4116 \nQ 875 4013 500 3803 \nL 500 4441 \nQ 881 4594 1212 4672 \nQ 1544 4750 1819 4750 \nQ 2544 4750 2975 4387 \nQ 3406 4025 3406 3419 \nQ 3406 3131 3298 2873 \nQ 3191 2616 2906 2266 \nQ 2828 2175 2409 1742 \nQ 1991 1309 1228 531 \nz\n\" id=\"DejaVuSans-32\" transform=\"scale(0.015625)\"/>\n        <path d=\"M 794 531 \nL 1825 531 \nL 1825 4091 \nL 703 3866 \nL 703 4441 \nL 1819 4666 \nL 2450 4666 \nL 2450 531 \nL 3481 531 \nL 3481 0 \nL 794 0 \nL 794 531 \nz\n\" id=\"DejaVuSans-31\" transform=\"scale(0.015625)\"/>\n        <path d=\"M 1625 4666 \nL 2156 4666 \nL 531 -594 \nL 0 -594 \nL 1625 4666 \nz\n\" id=\"DejaVuSans-2f\" transform=\"scale(0.015625)\"/>\n        <path d=\"M 2034 4250 \nQ 1547 4250 1301 3770 \nQ 1056 3291 1056 2328 \nQ 1056 1369 1301 889 \nQ 1547 409 2034 409 \nQ 2525 409 2770 889 \nQ 3016 1369 3016 2328 \nQ 3016 3291 2770 3770 \nQ 2525 4250 2034 4250 \nz\nM 2034 4750 \nQ 2819 4750 3233 4129 \nQ 3647 3509 3647 2328 \nQ 3647 1150 3233 529 \nQ 2819 -91 2034 -91 \nQ 1250 -91 836 529 \nQ 422 1150 422 2328 \nQ 422 3509 836 4129 \nQ 1250 4750 2034 4750 \nz\n\" id=\"DejaVuSans-30\" transform=\"scale(0.015625)\"/>\n        <path d=\"M 2419 4116 \nL 825 1625 \nL 2419 1625 \nL 2419 4116 \nz\nM 2253 4666 \nL 3047 4666 \nL 3047 1625 \nL 3713 1625 \nL 3713 1100 \nL 3047 1100 \nL 3047 0 \nL 2419 0 \nL 2419 1100 \nL 313 1100 \nL 313 1709 \nL 2253 4666 \nz\n\" id=\"DejaVuSans-34\" transform=\"scale(0.015625)\"/>\n       </defs>\n       <use xlink:href=\"#DejaVuSans-32\"/>\n       <use x=\"63.623047\" xlink:href=\"#DejaVuSans-31\"/>\n       <use x=\"127.246094\" xlink:href=\"#DejaVuSans-2f\"/>\n       <use x=\"160.9375\" xlink:href=\"#DejaVuSans-30\"/>\n       <use x=\"224.560547\" xlink:href=\"#DejaVuSans-34\"/>\n       <use x=\"288.183594\" xlink:href=\"#DejaVuSans-2f\"/>\n       <use x=\"321.875\" xlink:href=\"#DejaVuSans-30\"/>\n       <use x=\"385.498047\" xlink:href=\"#DejaVuSans-32\"/>\n      </g>\n     </g>\n    </g>\n    <g id=\"xtick_2\">\n     <g id=\"line2d_2\">\n      <g>\n       <use style=\"stroke:#000000;stroke-width:0.8;\" x=\"107.722727\" xlink:href=\"#m318f72f66e\" y=\"237.6\"/>\n      </g>\n     </g>\n     <g id=\"text_2\">\n      <!-- 21/04/03 -->\n      <g transform=\"translate(85.266477 252.198437)scale(0.1 -0.1)\">\n       <defs>\n        <path d=\"M 2597 2516 \nQ 3050 2419 3304 2112 \nQ 3559 1806 3559 1356 \nQ 3559 666 3084 287 \nQ 2609 -91 1734 -91 \nQ 1441 -91 1130 -33 \nQ 819 25 488 141 \nL 488 750 \nQ 750 597 1062 519 \nQ 1375 441 1716 441 \nQ 2309 441 2620 675 \nQ 2931 909 2931 1356 \nQ 2931 1769 2642 2001 \nQ 2353 2234 1838 2234 \nL 1294 2234 \nL 1294 2753 \nL 1863 2753 \nQ 2328 2753 2575 2939 \nQ 2822 3125 2822 3475 \nQ 2822 3834 2567 4026 \nQ 2313 4219 1838 4219 \nQ 1578 4219 1281 4162 \nQ 984 4106 628 3988 \nL 628 4550 \nQ 988 4650 1302 4700 \nQ 1616 4750 1894 4750 \nQ 2613 4750 3031 4423 \nQ 3450 4097 3450 3541 \nQ 3450 3153 3228 2886 \nQ 3006 2619 2597 2516 \nz\n\" id=\"DejaVuSans-33\" transform=\"scale(0.015625)\"/>\n       </defs>\n       <use xlink:href=\"#DejaVuSans-32\"/>\n       <use x=\"63.623047\" xlink:href=\"#DejaVuSans-31\"/>\n       <use x=\"127.246094\" xlink:href=\"#DejaVuSans-2f\"/>\n       <use x=\"160.9375\" xlink:href=\"#DejaVuSans-30\"/>\n       <use x=\"224.560547\" xlink:href=\"#DejaVuSans-34\"/>\n       <use x=\"288.183594\" xlink:href=\"#DejaVuSans-2f\"/>\n       <use x=\"321.875\" xlink:href=\"#DejaVuSans-30\"/>\n       <use x=\"385.498047\" xlink:href=\"#DejaVuSans-33\"/>\n      </g>\n     </g>\n    </g>\n    <g id=\"xtick_3\">\n     <g id=\"line2d_3\">\n      <g>\n       <use style=\"stroke:#000000;stroke-width:0.8;\" x=\"160.086364\" xlink:href=\"#m318f72f66e\" y=\"237.6\"/>\n      </g>\n     </g>\n     <g id=\"text_3\">\n      <!-- 21/04/04 -->\n      <g transform=\"translate(137.630114 252.198437)scale(0.1 -0.1)\">\n       <use xlink:href=\"#DejaVuSans-32\"/>\n       <use x=\"63.623047\" xlink:href=\"#DejaVuSans-31\"/>\n       <use x=\"127.246094\" xlink:href=\"#DejaVuSans-2f\"/>\n       <use x=\"160.9375\" xlink:href=\"#DejaVuSans-30\"/>\n       <use x=\"224.560547\" xlink:href=\"#DejaVuSans-34\"/>\n       <use x=\"288.183594\" xlink:href=\"#DejaVuSans-2f\"/>\n       <use x=\"321.875\" xlink:href=\"#DejaVuSans-30\"/>\n       <use x=\"385.498047\" xlink:href=\"#DejaVuSans-34\"/>\n      </g>\n     </g>\n    </g>\n    <g id=\"xtick_4\">\n     <g id=\"line2d_4\">\n      <g>\n       <use style=\"stroke:#000000;stroke-width:0.8;\" x=\"212.45\" xlink:href=\"#m318f72f66e\" y=\"237.6\"/>\n      </g>\n     </g>\n     <g id=\"text_4\">\n      <!-- 21/04/05 -->\n      <g transform=\"translate(189.99375 252.198437)scale(0.1 -0.1)\">\n       <defs>\n        <path d=\"M 691 4666 \nL 3169 4666 \nL 3169 4134 \nL 1269 4134 \nL 1269 2991 \nQ 1406 3038 1543 3061 \nQ 1681 3084 1819 3084 \nQ 2600 3084 3056 2656 \nQ 3513 2228 3513 1497 \nQ 3513 744 3044 326 \nQ 2575 -91 1722 -91 \nQ 1428 -91 1123 -41 \nQ 819 9 494 109 \nL 494 744 \nQ 775 591 1075 516 \nQ 1375 441 1709 441 \nQ 2250 441 2565 725 \nQ 2881 1009 2881 1497 \nQ 2881 1984 2565 2268 \nQ 2250 2553 1709 2553 \nQ 1456 2553 1204 2497 \nQ 953 2441 691 2322 \nL 691 4666 \nz\n\" id=\"DejaVuSans-35\" transform=\"scale(0.015625)\"/>\n       </defs>\n       <use xlink:href=\"#DejaVuSans-32\"/>\n       <use x=\"63.623047\" xlink:href=\"#DejaVuSans-31\"/>\n       <use x=\"127.246094\" xlink:href=\"#DejaVuSans-2f\"/>\n       <use x=\"160.9375\" xlink:href=\"#DejaVuSans-30\"/>\n       <use x=\"224.560547\" xlink:href=\"#DejaVuSans-34\"/>\n       <use x=\"288.183594\" xlink:href=\"#DejaVuSans-2f\"/>\n       <use x=\"321.875\" xlink:href=\"#DejaVuSans-30\"/>\n       <use x=\"385.498047\" xlink:href=\"#DejaVuSans-35\"/>\n      </g>\n     </g>\n    </g>\n    <g id=\"xtick_5\">\n     <g id=\"line2d_5\">\n      <g>\n       <use style=\"stroke:#000000;stroke-width:0.8;\" x=\"264.813636\" xlink:href=\"#m318f72f66e\" y=\"237.6\"/>\n      </g>\n     </g>\n     <g id=\"text_5\">\n      <!-- 21/04/06 -->\n      <g transform=\"translate(242.357386 252.198437)scale(0.1 -0.1)\">\n       <defs>\n        <path d=\"M 2113 2584 \nQ 1688 2584 1439 2293 \nQ 1191 2003 1191 1497 \nQ 1191 994 1439 701 \nQ 1688 409 2113 409 \nQ 2538 409 2786 701 \nQ 3034 994 3034 1497 \nQ 3034 2003 2786 2293 \nQ 2538 2584 2113 2584 \nz\nM 3366 4563 \nL 3366 3988 \nQ 3128 4100 2886 4159 \nQ 2644 4219 2406 4219 \nQ 1781 4219 1451 3797 \nQ 1122 3375 1075 2522 \nQ 1259 2794 1537 2939 \nQ 1816 3084 2150 3084 \nQ 2853 3084 3261 2657 \nQ 3669 2231 3669 1497 \nQ 3669 778 3244 343 \nQ 2819 -91 2113 -91 \nQ 1303 -91 875 529 \nQ 447 1150 447 2328 \nQ 447 3434 972 4092 \nQ 1497 4750 2381 4750 \nQ 2619 4750 2861 4703 \nQ 3103 4656 3366 4563 \nz\n\" id=\"DejaVuSans-36\" transform=\"scale(0.015625)\"/>\n       </defs>\n       <use xlink:href=\"#DejaVuSans-32\"/>\n       <use x=\"63.623047\" xlink:href=\"#DejaVuSans-31\"/>\n       <use x=\"127.246094\" xlink:href=\"#DejaVuSans-2f\"/>\n       <use x=\"160.9375\" xlink:href=\"#DejaVuSans-30\"/>\n       <use x=\"224.560547\" xlink:href=\"#DejaVuSans-34\"/>\n       <use x=\"288.183594\" xlink:href=\"#DejaVuSans-2f\"/>\n       <use x=\"321.875\" xlink:href=\"#DejaVuSans-30\"/>\n       <use x=\"385.498047\" xlink:href=\"#DejaVuSans-36\"/>\n      </g>\n     </g>\n    </g>\n    <g id=\"xtick_6\">\n     <g id=\"line2d_6\">\n      <g>\n       <use style=\"stroke:#000000;stroke-width:0.8;\" x=\"317.177273\" xlink:href=\"#m318f72f66e\" y=\"237.6\"/>\n      </g>\n     </g>\n     <g id=\"text_6\">\n      <!-- 21/04/07 -->\n      <g transform=\"translate(294.721023 252.198437)scale(0.1 -0.1)\">\n       <defs>\n        <path d=\"M 525 4666 \nL 3525 4666 \nL 3525 4397 \nL 1831 0 \nL 1172 0 \nL 2766 4134 \nL 525 4134 \nL 525 4666 \nz\n\" id=\"DejaVuSans-37\" transform=\"scale(0.015625)\"/>\n       </defs>\n       <use xlink:href=\"#DejaVuSans-32\"/>\n       <use x=\"63.623047\" xlink:href=\"#DejaVuSans-31\"/>\n       <use x=\"127.246094\" xlink:href=\"#DejaVuSans-2f\"/>\n       <use x=\"160.9375\" xlink:href=\"#DejaVuSans-30\"/>\n       <use x=\"224.560547\" xlink:href=\"#DejaVuSans-34\"/>\n       <use x=\"288.183594\" xlink:href=\"#DejaVuSans-2f\"/>\n       <use x=\"321.875\" xlink:href=\"#DejaVuSans-30\"/>\n       <use x=\"385.498047\" xlink:href=\"#DejaVuSans-37\"/>\n      </g>\n     </g>\n    </g>\n    <g id=\"xtick_7\">\n     <g id=\"line2d_7\">\n      <g>\n       <use style=\"stroke:#000000;stroke-width:0.8;\" x=\"369.540909\" xlink:href=\"#m318f72f66e\" y=\"237.6\"/>\n      </g>\n     </g>\n    </g>\n   </g>\n   <g id=\"matplotlib.axis_2\">\n    <g id=\"ytick_1\">\n     <g id=\"line2d_8\">\n      <defs>\n       <path d=\"M 0 0 \nL -3.5 0 \n\" id=\"mc72af6f923\" style=\"stroke:#000000;stroke-width:0.8;\"/>\n      </defs>\n      <g>\n       <use style=\"stroke:#000000;stroke-width:0.8;\" x=\"39.65\" xlink:href=\"#mc72af6f923\" y=\"232.309855\"/>\n      </g>\n     </g>\n     <g id=\"text_7\">\n      <!-- 0 -->\n      <g transform=\"translate(26.2875 236.109074)scale(0.1 -0.1)\">\n       <use xlink:href=\"#DejaVuSans-30\"/>\n      </g>\n     </g>\n    </g>\n    <g id=\"ytick_2\">\n     <g id=\"line2d_9\">\n      <g>\n       <use style=\"stroke:#000000;stroke-width:0.8;\" x=\"39.65\" xlink:href=\"#mc72af6f923\" y=\"183.417571\"/>\n      </g>\n     </g>\n     <g id=\"text_8\">\n      <!-- 500 -->\n      <g transform=\"translate(13.5625 187.216789)scale(0.1 -0.1)\">\n       <use xlink:href=\"#DejaVuSans-35\"/>\n       <use x=\"63.623047\" xlink:href=\"#DejaVuSans-30\"/>\n       <use x=\"127.246094\" xlink:href=\"#DejaVuSans-30\"/>\n      </g>\n     </g>\n    </g>\n    <g id=\"ytick_3\">\n     <g id=\"line2d_10\">\n      <g>\n       <use style=\"stroke:#000000;stroke-width:0.8;\" x=\"39.65\" xlink:href=\"#mc72af6f923\" y=\"134.525286\"/>\n      </g>\n     </g>\n     <g id=\"text_9\">\n      <!-- 1000 -->\n      <g transform=\"translate(7.2 138.324505)scale(0.1 -0.1)\">\n       <use xlink:href=\"#DejaVuSans-31\"/>\n       <use x=\"63.623047\" xlink:href=\"#DejaVuSans-30\"/>\n       <use x=\"127.246094\" xlink:href=\"#DejaVuSans-30\"/>\n       <use x=\"190.869141\" xlink:href=\"#DejaVuSans-30\"/>\n      </g>\n     </g>\n    </g>\n    <g id=\"ytick_4\">\n     <g id=\"line2d_11\">\n      <g>\n       <use style=\"stroke:#000000;stroke-width:0.8;\" x=\"39.65\" xlink:href=\"#mc72af6f923\" y=\"85.633002\"/>\n      </g>\n     </g>\n     <g id=\"text_10\">\n      <!-- 1500 -->\n      <g transform=\"translate(7.2 89.432221)scale(0.1 -0.1)\">\n       <use xlink:href=\"#DejaVuSans-31\"/>\n       <use x=\"63.623047\" xlink:href=\"#DejaVuSans-35\"/>\n       <use x=\"127.246094\" xlink:href=\"#DejaVuSans-30\"/>\n       <use x=\"190.869141\" xlink:href=\"#DejaVuSans-30\"/>\n      </g>\n     </g>\n    </g>\n    <g id=\"ytick_5\">\n     <g id=\"line2d_12\">\n      <g>\n       <use style=\"stroke:#000000;stroke-width:0.8;\" x=\"39.65\" xlink:href=\"#mc72af6f923\" y=\"36.740718\"/>\n      </g>\n     </g>\n     <g id=\"text_11\">\n      <!-- 2000 -->\n      <g transform=\"translate(7.2 40.539937)scale(0.1 -0.1)\">\n       <use xlink:href=\"#DejaVuSans-32\"/>\n       <use x=\"63.623047\" xlink:href=\"#DejaVuSans-30\"/>\n       <use x=\"127.246094\" xlink:href=\"#DejaVuSans-30\"/>\n       <use x=\"190.869141\" xlink:href=\"#DejaVuSans-30\"/>\n      </g>\n     </g>\n    </g>\n   </g>\n   <g id=\"line2d_13\">\n    <path clip-path=\"url(#p5d383f59d0)\" d=\"M 55.359091 17.672727 \nL 107.722727 183.319786 \nL 160.086364 177.452712 \nL 212.45 227.127273 \nL 264.813636 185.568831 \nL 317.177273 149.681895 \nL 369.540909 201.6055 \n\" style=\"fill:none;stroke:#1f77b4;stroke-linecap:square;stroke-width:1.5;\"/>\n   </g>\n   <g id=\"patch_3\">\n    <path d=\"M 39.65 237.6 \nL 39.65 7.2 \n\" style=\"fill:none;stroke:#000000;stroke-linecap:square;stroke-linejoin:miter;stroke-width:0.8;\"/>\n   </g>\n   <g id=\"patch_4\">\n    <path d=\"M 385.25 237.6 \nL 385.25 7.2 \n\" style=\"fill:none;stroke:#000000;stroke-linecap:square;stroke-linejoin:miter;stroke-width:0.8;\"/>\n   </g>\n   <g id=\"patch_5\">\n    <path d=\"M 39.65 237.6 \nL 385.25 237.6 \n\" style=\"fill:none;stroke:#000000;stroke-linecap:square;stroke-linejoin:miter;stroke-width:0.8;\"/>\n   </g>\n   <g id=\"patch_6\">\n    <path d=\"M 39.65 7.2 \nL 385.25 7.2 \n\" style=\"fill:none;stroke:#000000;stroke-linecap:square;stroke-linejoin:miter;stroke-width:0.8;\"/>\n   </g>\n  </g>\n </g>\n <defs>\n  <clipPath id=\"p5d383f59d0\">\n   <rect height=\"230.4\" width=\"345.6\" x=\"39.65\" y=\"7.2\"/>\n  </clipPath>\n </defs>\n</svg>\n",
      "image/png": "[encoded data removed]"
     },
     "metadata": {
      "needs_background": "light"
     }
    }
   ],
   "source": [
    "import matplotlib.pyplot as plt\n",
    "fig = plt.figure()\n",
    "ax = fig.add_axes([0.1, 0.1, 0.8, 0.8])\n",
    "\n",
    "days = [x[0] for x in counts_by_day_sorted]\n",
    "counts = [x[1] for x in counts_by_day_sorted]\n",
    "ax.plot(counts)\n",
    "ax.set_xticklabels(days)"
   ]
  },
  {
   "cell_type": "code",
   "execution_count": null,
   "metadata": {},
   "outputs": [],
   "source": []
  }
 ]
}